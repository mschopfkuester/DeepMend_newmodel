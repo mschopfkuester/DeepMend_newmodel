{
 "cells": [
  {
   "cell_type": "code",
   "execution_count": 21,
   "metadata": {},
   "outputs": [],
   "source": [
    "import torch"
   ]
  },
  {
   "cell_type": "code",
   "execution_count": 22,
   "metadata": {},
   "outputs": [],
   "source": [
    "pts = torch.tensor([\n",
    "    [0,0,1],\n",
    "    [0,0,2],\n",
    "    [0,1,0],\n",
    "    [0,2,0],\n",
    "    [1,0,0],\n",
    "    [2,0,0],\n",
    "])\n",
    "\n",
    "B = torch.tensor([\n",
    "    [1,0,0],\n",
    "    [2,0,0],\n",
    "    [0,1,0],\n",
    "    [0,2,0],\n",
    "    [0,0,1],\n",
    "    [0,0,2]\n",
    "])"
   ]
  },
  {
   "cell_type": "code",
   "execution_count": 23,
   "metadata": {},
   "outputs": [
    {
     "name": "stdout",
     "output_type": "stream",
     "text": [
      "tensor([[0.0000e+00, 1.0000e+00, 0.0000e+00, 1.0000e+00, 0.0000e+00, 1.0000e+00,\n",
      "         0.0000e+00, 1.0000e+00, 1.7485e-07, 1.0000e+00, 3.4969e-07, 1.0000e+00],\n",
      "        [0.0000e+00, 1.0000e+00, 0.0000e+00, 1.0000e+00, 0.0000e+00, 1.0000e+00,\n",
      "         0.0000e+00, 1.0000e+00, 3.4969e-07, 1.0000e+00, 6.9938e-07, 1.0000e+00],\n",
      "        [0.0000e+00, 1.0000e+00, 0.0000e+00, 1.0000e+00, 1.7485e-07, 1.0000e+00,\n",
      "         3.4969e-07, 1.0000e+00, 0.0000e+00, 1.0000e+00, 0.0000e+00, 1.0000e+00],\n",
      "        [0.0000e+00, 1.0000e+00, 0.0000e+00, 1.0000e+00, 3.4969e-07, 1.0000e+00,\n",
      "         6.9938e-07, 1.0000e+00, 0.0000e+00, 1.0000e+00, 0.0000e+00, 1.0000e+00],\n",
      "        [1.7485e-07, 1.0000e+00, 3.4969e-07, 1.0000e+00, 0.0000e+00, 1.0000e+00,\n",
      "         0.0000e+00, 1.0000e+00, 0.0000e+00, 1.0000e+00, 0.0000e+00, 1.0000e+00],\n",
      "        [3.4969e-07, 1.0000e+00, 6.9938e-07, 1.0000e+00, 0.0000e+00, 1.0000e+00,\n",
      "         0.0000e+00, 1.0000e+00, 0.0000e+00, 1.0000e+00, 0.0000e+00, 1.0000e+00]]) torch.Size([6, 12])\n"
     ]
    }
   ],
   "source": [
    "\n",
    "print(pts_fou, pts_fou.shape)"
   ]
  }
 ],
 "metadata": {
  "kernelspec": {
   "display_name": "DM",
   "language": "python",
   "name": "python3"
  },
  "language_info": {
   "codemirror_mode": {
    "name": "ipython",
    "version": 3
   },
   "file_extension": ".py",
   "mimetype": "text/x-python",
   "name": "python",
   "nbconvert_exporter": "python",
   "pygments_lexer": "ipython3",
   "version": "3.8.16 (default, Jan 17 2023, 23:13:24) \n[GCC 11.2.0]"
  },
  "orig_nbformat": 4,
  "vscode": {
   "interpreter": {
    "hash": "99e7e36d33d32e3b6228443ba27aa3785d27ded121f0b7bef1e64fa94a19b71b"
   }
  }
 },
 "nbformat": 4,
 "nbformat_minor": 2
}
